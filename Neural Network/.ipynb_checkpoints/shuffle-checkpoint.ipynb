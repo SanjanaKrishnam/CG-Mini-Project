{
 "cells": [
  {
   "cell_type": "code",
   "execution_count": 1,
   "metadata": {},
   "outputs": [],
   "source": [
    "from __future__ import print_function\n",
    "import numpy as np\n",
    "import csv\n",
    "import os,random\n"
   ]
  },
  {
   "cell_type": "code",
   "execution_count": 2,
   "metadata": {},
   "outputs": [
    {
     "name": "stdout",
     "output_type": "stream",
     "text": [
      "[49 89 72  2 62 66 25 50 35 82  8 17 67 84 31 36  5 51 11 12 78 79 77  3\n",
      " 20  0 53 74 56 65 81 43 34 55 30 60 40 15 48 10 88 13 83 47 39 68 27 86\n",
      " 59  1 70 29 61  6 46 14  7 41 32 37  4 69  9 16 18 19 21 22 23 24 26 28\n",
      " 33 38 42 44 45 52 54 57 58 63 64 71 73 75 76 80 85 87  6 83 39 59 67 16\n",
      " 66 35 70 74 26 79 10 38 52 50 19 75 44 63 78 57 27 37 18 80 49 61 31 32\n",
      " 43 40 25 73 41 60 17  8 68 65 62 85 51 86 22 45 33  5  9 28 42 84  1 30\n",
      " 72  2 77 88 20  0 58 81  3  4  7 11 12 13 14 15 21 23 24 29 34 36 46 47\n",
      " 48 53 54 55 56 64 69 71 76 82 87 89]\n"
     ]
    }
   ],
   "source": [
    "samples = 90\n",
    "# First shuffle the data indices to select random repetitions\n",
    "trainidx1 = random.sample(range(0,samples), int(0.7*samples))\n",
    "trainidx2 = random.sample(range(0,samples), int(0.7*samples))\n",
    "\n",
    "# Find the remaining 20 indices after the random shuffling\n",
    "valididx1 = np.setdiff1d(np.arange(0,samples,1),trainidx1)\n",
    "valididx2 = np.setdiff1d(np.arange(0,samples,1),trainidx2)\n",
    "\n",
    "# convert a list to array\n",
    "trainidx1 = np.asarray(trainidx1, dtype = np.int32)\n",
    "trainidx2 = np.asarray(trainidx2, dtype = np.int32)\n",
    "valididx1 = np.asarray(valididx1, dtype = np.int32)\n",
    "valididx2 = np.asarray(valididx2, dtype = np.int32)\n",
    "# print(trainidx1.shape)\n",
    "# print(trainidx2.shape)\n",
    "# print(valididx1.shape)\n",
    "# print(valididx2.shape)\n",
    "\n",
    "# combine shuffle\n",
    "indices = np.concatenate((trainidx1, valididx1, trainidx2, valididx2))\n",
    "print(indices)\n",
    "\n",
    "# # save shuffle\n",
    "np.savetxt('Shuffled_Indices.csv', indices,  fmt='%d',delimiter=',')"
   ]
  }
 ],
 "metadata": {
  "kernelspec": {
   "display_name": "Python 3",
   "language": "python",
   "name": "python3"
  },
  "language_info": {
   "codemirror_mode": {
    "name": "ipython",
    "version": 3
   },
   "file_extension": ".py",
   "mimetype": "text/x-python",
   "name": "python",
   "nbconvert_exporter": "python",
   "pygments_lexer": "ipython3",
   "version": "3.7.2"
  }
 },
 "nbformat": 4,
 "nbformat_minor": 2
}
