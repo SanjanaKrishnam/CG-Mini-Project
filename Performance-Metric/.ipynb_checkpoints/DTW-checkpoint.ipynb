{
 "cells": [
  {
   "cell_type": "code",
   "execution_count": 88,
   "metadata": {},
   "outputs": [],
   "source": [
    "import numpy as np\n",
    "from dtw import dtw\n",
    "from scipy.spatial.distance import euclidean"
   ]
  },
  {
   "cell_type": "code",
   "execution_count": 89,
   "metadata": {},
   "outputs": [],
   "source": [
    "#Dynamic Time Warping between subjects\n",
    "def DTW_between(samples, Train_Data, Test_Data):\n",
    "    dtw_bw_train = np.zeros(samples)\n",
    "    for i in range(samples):\n",
    "        for j in  range(samples):\n",
    "            dtw_bw_train[i]= dtw_bw_train[i] + dtw(Train_Data[i],Train_Data[j],dist=euclidean)[0]\n",
    "    dtw_bw_train = dtw_bw_train/samples\n",
    "\n",
    "    dtw_bw_test = np.zeros(samples)\n",
    "    for i in range(samples):\n",
    "        for j in  range(samples):\n",
    "            dtw_bw_test[i]= dtw_bw_test[i] + dtw(Test_Data[i],Train_Data[j],dist=euclidean)[0]\n",
    "    dtw_bw_test = dtw_bw_test/samples\n",
    "\n",
    "    return dtw_bw_train, dtw_bw_test\n",
    "\n",
    "\n"
   ]
  },
  {
   "cell_type": "code",
   "execution_count": 90,
   "metadata": {},
   "outputs": [],
   "source": [
    "#Dynamic Time Warping within subjects\n",
    "def DTW_within(rt,samples, Train_Data, Test_Data):\n",
    "    dtw_with_train = np.zeros(samples) \n",
    "    M=0\n",
    "    for s in range(10):\n",
    "        for i in range(rt[s]):\n",
    "            for j in range(rt[s]):\n",
    "                dtw_with_train[M+i] = dtw_with_train[M+i]+dtw(Train_Data[M+i],Train_Data[M+j],dist=euclidean)[0]\n",
    "            dtw_with_train[M+i] = dtw_with_train[M+i]/rt[s]\n",
    "        M=M+rt[s]\n",
    "   \n",
    "    dtw_with_test = np.zeros(samples) \n",
    "    M=0\n",
    "    for s in range(10):\n",
    "        for i in range(rt[s]):\n",
    "            for j in range(rt[s]):\n",
    "                dtw_with_test[M+i] = dtw_with_test[M+i]+dtw(Test_Data[M+i],Train_Data[M+j],dist=euclidean)[0]\n",
    "            dtw_with_test[M+i] = dtw_with_test[M+i]/rt[s]\n",
    "        M=M+rt[s]\n",
    "    \n",
    "    return dtw_with_train, dtw_with_test\n",
    "    \n",
    "   "
   ]
  },
  {
   "cell_type": "code",
   "execution_count": 91,
   "metadata": {},
   "outputs": [],
   "source": [
    "filepath_train = \"../Dimensionality-Reduction/Data/AE_reduced_correct.csv\"\n",
    "filepath_test = \"../Dimensionality-Reduction/Data/AE_reduced_incorrect.csv\"\n",
    "samples = 90\n",
    "timesteps = 240\n",
    "features = 4\n",
    "rt = [9,9,9,9,9,10,8,9,8,10]\n",
    "Train_Data = np.loadtxt(filepath_train, delimiter = ',')\n",
    "Test_Data = np.loadtxt(filepath_test, delimiter = ',')\n",
    "Train_Data = Train_Data.reshape(samples,timesteps,features)\n",
    "Test_Data = Test_Data.reshape(samples,timesteps,features)"
   ]
  },
  {
   "cell_type": "code",
   "execution_count": 92,
   "metadata": {},
   "outputs": [
    {
     "ename": "KeyboardInterrupt",
     "evalue": "",
     "output_type": "error",
     "traceback": [
      "\u001b[0;31m---------------------------------------------------------------------------\u001b[0m",
      "\u001b[0;31mKeyboardInterrupt\u001b[0m                         Traceback (most recent call last)",
      "\u001b[0;32m<ipython-input-92-500d45a3ee07>\u001b[0m in \u001b[0;36m<module>\u001b[0;34m\u001b[0m\n\u001b[1;32m      1\u001b[0m \u001b[0mDTW_within\u001b[0m\u001b[0;34m(\u001b[0m\u001b[0mrt\u001b[0m\u001b[0;34m,\u001b[0m\u001b[0msamples\u001b[0m\u001b[0;34m,\u001b[0m\u001b[0mTrain_Data\u001b[0m\u001b[0;34m,\u001b[0m\u001b[0mTest_Data\u001b[0m\u001b[0;34m)\u001b[0m\u001b[0;34m\u001b[0m\u001b[0;34m\u001b[0m\u001b[0m\n\u001b[0;32m----> 2\u001b[0;31m \u001b[0mDTW_between\u001b[0m\u001b[0;34m(\u001b[0m\u001b[0msamples\u001b[0m\u001b[0;34m,\u001b[0m\u001b[0mTrain_Data\u001b[0m\u001b[0;34m,\u001b[0m\u001b[0mTest_Data\u001b[0m\u001b[0;34m)\u001b[0m\u001b[0;34m\u001b[0m\u001b[0;34m\u001b[0m\u001b[0m\n\u001b[0m\u001b[1;32m      3\u001b[0m \u001b[0;34m\u001b[0m\u001b[0m\n",
      "\u001b[0;32m<ipython-input-89-54128ac55ba9>\u001b[0m in \u001b[0;36mDTW_between\u001b[0;34m(samples, Train_Data, Test_Data)\u001b[0m\n\u001b[1;32m      4\u001b[0m     \u001b[0;32mfor\u001b[0m \u001b[0mi\u001b[0m \u001b[0;32min\u001b[0m \u001b[0mrange\u001b[0m\u001b[0;34m(\u001b[0m\u001b[0msamples\u001b[0m\u001b[0;34m)\u001b[0m\u001b[0;34m:\u001b[0m\u001b[0;34m\u001b[0m\u001b[0;34m\u001b[0m\u001b[0m\n\u001b[1;32m      5\u001b[0m         \u001b[0;32mfor\u001b[0m \u001b[0mj\u001b[0m \u001b[0;32min\u001b[0m  \u001b[0mrange\u001b[0m\u001b[0;34m(\u001b[0m\u001b[0msamples\u001b[0m\u001b[0;34m)\u001b[0m\u001b[0;34m:\u001b[0m\u001b[0;34m\u001b[0m\u001b[0;34m\u001b[0m\u001b[0m\n\u001b[0;32m----> 6\u001b[0;31m             \u001b[0mdtw_bw_train\u001b[0m\u001b[0;34m[\u001b[0m\u001b[0mi\u001b[0m\u001b[0;34m]\u001b[0m\u001b[0;34m=\u001b[0m \u001b[0mdtw_bw_train\u001b[0m\u001b[0;34m[\u001b[0m\u001b[0mi\u001b[0m\u001b[0;34m]\u001b[0m \u001b[0;34m+\u001b[0m \u001b[0mdtw\u001b[0m\u001b[0;34m(\u001b[0m\u001b[0mTrain_Data\u001b[0m\u001b[0;34m[\u001b[0m\u001b[0mi\u001b[0m\u001b[0;34m]\u001b[0m\u001b[0;34m,\u001b[0m\u001b[0mTrain_Data\u001b[0m\u001b[0;34m[\u001b[0m\u001b[0mj\u001b[0m\u001b[0;34m]\u001b[0m\u001b[0;34m,\u001b[0m\u001b[0mdist\u001b[0m\u001b[0;34m=\u001b[0m\u001b[0meuclidean\u001b[0m\u001b[0;34m)\u001b[0m\u001b[0;34m[\u001b[0m\u001b[0;36m0\u001b[0m\u001b[0;34m]\u001b[0m\u001b[0;34m\u001b[0m\u001b[0;34m\u001b[0m\u001b[0m\n\u001b[0m\u001b[1;32m      7\u001b[0m     \u001b[0mdtw_bw_train\u001b[0m \u001b[0;34m=\u001b[0m \u001b[0mdtw_bw_train\u001b[0m\u001b[0;34m/\u001b[0m\u001b[0msamples\u001b[0m\u001b[0;34m\u001b[0m\u001b[0;34m\u001b[0m\u001b[0m\n\u001b[1;32m      8\u001b[0m \u001b[0;34m\u001b[0m\u001b[0m\n",
      "\u001b[0;32m~/.pyenv/versions/3.7.2/envs/CG/lib/python3.7/site-packages/dtw/dtw.py\u001b[0m in \u001b[0;36mdtw\u001b[0;34m(x, y, dist, warp, w, s)\u001b[0m\n\u001b[1;32m     42\u001b[0m         \u001b[0;32mfor\u001b[0m \u001b[0mj\u001b[0m \u001b[0;32min\u001b[0m \u001b[0mjrange\u001b[0m\u001b[0;34m:\u001b[0m\u001b[0;34m\u001b[0m\u001b[0;34m\u001b[0m\u001b[0m\n\u001b[1;32m     43\u001b[0m             \u001b[0mmin_list\u001b[0m \u001b[0;34m=\u001b[0m \u001b[0;34m[\u001b[0m\u001b[0mD0\u001b[0m\u001b[0;34m[\u001b[0m\u001b[0mi\u001b[0m\u001b[0;34m,\u001b[0m \u001b[0mj\u001b[0m\u001b[0;34m]\u001b[0m\u001b[0;34m]\u001b[0m\u001b[0;34m\u001b[0m\u001b[0;34m\u001b[0m\u001b[0m\n\u001b[0;32m---> 44\u001b[0;31m             \u001b[0;32mfor\u001b[0m \u001b[0mk\u001b[0m \u001b[0;32min\u001b[0m \u001b[0mrange\u001b[0m\u001b[0;34m(\u001b[0m\u001b[0;36m1\u001b[0m\u001b[0;34m,\u001b[0m \u001b[0mwarp\u001b[0m \u001b[0;34m+\u001b[0m \u001b[0;36m1\u001b[0m\u001b[0;34m)\u001b[0m\u001b[0;34m:\u001b[0m\u001b[0;34m\u001b[0m\u001b[0;34m\u001b[0m\u001b[0m\n\u001b[0m\u001b[1;32m     45\u001b[0m                 \u001b[0mi_k\u001b[0m \u001b[0;34m=\u001b[0m \u001b[0mmin\u001b[0m\u001b[0;34m(\u001b[0m\u001b[0mi\u001b[0m \u001b[0;34m+\u001b[0m \u001b[0mk\u001b[0m\u001b[0;34m,\u001b[0m \u001b[0mr\u001b[0m\u001b[0;34m)\u001b[0m\u001b[0;34m\u001b[0m\u001b[0;34m\u001b[0m\u001b[0m\n\u001b[1;32m     46\u001b[0m                 \u001b[0mj_k\u001b[0m \u001b[0;34m=\u001b[0m \u001b[0mmin\u001b[0m\u001b[0;34m(\u001b[0m\u001b[0mj\u001b[0m \u001b[0;34m+\u001b[0m \u001b[0mk\u001b[0m\u001b[0;34m,\u001b[0m \u001b[0mc\u001b[0m\u001b[0;34m)\u001b[0m\u001b[0;34m\u001b[0m\u001b[0;34m\u001b[0m\u001b[0m\n",
      "\u001b[0;31mKeyboardInterrupt\u001b[0m: "
     ]
    }
   ],
   "source": [
    "dtw_with_train, dtw_with_test = DTW_between(samples,Train_Data,Test_Data)\n",
    "print(dtw_bw_train.shape)\n",
    "print(dtw_bw_test.shape)\n",
    "np.savetxt(\"DTW_bw_AE_correct.csv\", dtw_bw_train,delimiter=',')\n",
    "np.savetxt(\"DTW_bw_AE_incorrect.csv\", dtw_bw_test,delimiter=',')\n",
    "\n",
    "\n",
    "\n",
    "   "
   ]
  },
  {
   "cell_type": "code",
   "execution_count": null,
   "metadata": {},
   "outputs": [],
   "source": [
    "dtw_with_train, dtw_with_test = DTW_within(rt,samples,Train_Data,Test_Data)\n",
    "print(dtw_with_train.shape)\n",
    "print(dtw_with_test.shape)\n",
    "np.savetxt(\"DTW_with_AE_correct.csv\", dtw_with_train,delimiter=',')\n",
    "np.savetxt(\"DTW_with_AE_incorrect.csv\", dtw_with_test,delimiter=',')"
   ]
  }
 ],
 "metadata": {
  "kernelspec": {
   "display_name": "Python 3",
   "language": "python",
   "name": "python3"
  },
  "language_info": {
   "codemirror_mode": {
    "name": "ipython",
    "version": 3
   },
   "file_extension": ".py",
   "mimetype": "text/x-python",
   "name": "python",
   "nbconvert_exporter": "python",
   "pygments_lexer": "ipython3",
   "version": "3.7.2"
  }
 },
 "nbformat": 4,
 "nbformat_minor": 2
}
