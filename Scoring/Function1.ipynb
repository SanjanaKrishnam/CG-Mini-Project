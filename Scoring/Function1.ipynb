{
 "cells": [
  {
   "cell_type": "code",
   "execution_count": 1,
   "metadata": {
    "collapsed": true
   },
   "outputs": [],
   "source": [
    "import numpy as np\n",
    "from math import exp\n",
    "import os\n",
    "import matplotlib.pyplot as plt\n",
    "%matplotlib inline"
   ]
  },
  {
   "cell_type": "code",
   "execution_count": 2,
   "metadata": {
    "collapsed": false
   },
   "outputs": [],
   "source": [
    "#Scoring Function\n",
    "def score(TrainData,TestData,L):\n",
    "    print(\"Scoring the data\")\n",
    "    scored_trainData = np.zeros(L)\n",
    "    scored_testData = np.zeros(L)\n",
    "    a1 = 3.2\n",
    "    a2 = 10\n",
    "    for i in range(L):\n",
    "        u = np.sum(np.absolute(TrainData[0:i+1]),dtype=np.float64)\n",
    "        u = u/L\n",
    "        d = 0\n",
    "        for j in range(i+1):\n",
    "            val = np.square((np.absolute(TrainData[j]) - u))\n",
    "            d = np.add(val,d)\n",
    "        d = d/L\n",
    "        scored_trainData[i] = pow((1 +exp((TrainData[i]/(u+3*d)) - a1)),-1)\n",
    "        val = (TrainData[i] - TestData[i])/(a1*(u+3*d))\n",
    "        scored_testData[i] = pow((1 +exp((TrainData[i]/(u+3*d)) - a1) + val),-1)\n",
    "    return scored_trainData,scored_testData    "
   ]
  },
  {
   "cell_type": "code",
   "execution_count": 3,
   "metadata": {
    "collapsed": false
   },
   "outputs": [],
   "source": [
    "#Loading Data files\n",
    "file1 = \"DTW_bw_AE_correct.csv\"\n",
    "file2 = \"DTW_bw_AE_incorrect.csv\"\n",
    "filepath_train = \"../Performance-Metric/Data/\" + file1\n",
    "filepath_test = \"../Performance-Metric/Data/\" + file2\n",
    "Train_Data = np.loadtxt(filepath_train, delimiter = ',')\n",
    "Test_Data = np.loadtxt(filepath_test, delimiter = ',')\n",
    "L = Train_Data.shape[0]"
   ]
  },
  {
   "cell_type": "code",
   "execution_count": 4,
   "metadata": {
    "collapsed": false,
    "scrolled": false
   },
   "outputs": [
    {
     "name": "stdout",
     "output_type": "stream",
     "text": [
      "Scoring the data\n",
      "(90,)\n",
      "(90,)\n"
     ]
    }
   ],
   "source": [
    "#Calculating the score\n",
    "Trainscore,Testscore = score(Train_Data,Test_Data,L)\n",
    "print(Testscore.shape)\n",
    "print(Trainscore.shape)"
   ]
  },
  {
   "cell_type": "code",
   "execution_count": 5,
   "metadata": {
    "collapsed": false,
    "scrolled": true
   },
   "outputs": [
    {
     "data": {
      "image/png": "[encoded data removed]",
      "text/plain": [
       "<matplotlib.figure.Figure at 0x7fccc91c9860>"
      ]
     },
     "metadata": {},
     "output_type": "display_data"
    }
   ],
   "source": [
    "#Plotting \n",
    "plt.figure(figsize = (14,8))\n",
    "plt.plot(Trainscore,\"bo\",label=\"Training set\")\n",
    "plt.plot(Testscore,\"go\",label=\"Testing set\")\n",
    "plt.legend()\n",
    "plt.show()"
   ]
  },
  {
   "cell_type": "code",
   "execution_count": 7,
   "metadata": {
    "collapsed": false,
    "scrolled": true
   },
   "outputs": [
    {
     "ename": "FileNotFoundError",
     "evalue": "[Errno 2] No such file or directory: 'Data'",
     "output_type": "error",
     "traceback": [
      "\u001b[0;31m---------------------------------------------------------------------------\u001b[0m",
      "\u001b[0;31mFileNotFoundError\u001b[0m                         Traceback (most recent call last)",
      "\u001b[0;32m<ipython-input-7-0499b2a1e0d3>\u001b[0m in \u001b[0;36m<module>\u001b[0;34m()\u001b[0m\n\u001b[1;32m      1\u001b[0m \u001b[0;31m#Saving the data\u001b[0m\u001b[0;34m\u001b[0m\u001b[0;34m\u001b[0m\u001b[0m\n\u001b[0;32m----> 2\u001b[0;31m \u001b[0mos\u001b[0m\u001b[0;34m.\u001b[0m\u001b[0mchdir\u001b[0m\u001b[0;34m(\u001b[0m\u001b[0;34m\"Data\"\u001b[0m\u001b[0;34m)\u001b[0m\u001b[0;34m\u001b[0m\u001b[0m\n\u001b[0m\u001b[1;32m      3\u001b[0m \u001b[0mnp\u001b[0m\u001b[0;34m.\u001b[0m\u001b[0msavetxt\u001b[0m\u001b[0;34m(\u001b[0m\u001b[0;34m\"f1_\"\u001b[0m\u001b[0;34m+\u001b[0m\u001b[0mfile1\u001b[0m\u001b[0;34m,\u001b[0m \u001b[0mTrainscore\u001b[0m\u001b[0;34m,\u001b[0m\u001b[0mdelimiter\u001b[0m\u001b[0;34m=\u001b[0m\u001b[0;34m','\u001b[0m\u001b[0;34m)\u001b[0m\u001b[0;34m\u001b[0m\u001b[0m\n\u001b[1;32m      4\u001b[0m \u001b[0mnp\u001b[0m\u001b[0;34m.\u001b[0m\u001b[0msavetxt\u001b[0m\u001b[0;34m(\u001b[0m\u001b[0;34m\"f1_\"\u001b[0m \u001b[0;34m+\u001b[0m\u001b[0mfile2\u001b[0m\u001b[0;34m,\u001b[0m \u001b[0mTestscore\u001b[0m\u001b[0;34m,\u001b[0m\u001b[0mdelimiter\u001b[0m\u001b[0;34m=\u001b[0m\u001b[0;34m','\u001b[0m\u001b[0;34m)\u001b[0m\u001b[0;34m\u001b[0m\u001b[0m\n",
      "\u001b[0;31mFileNotFoundError\u001b[0m: [Errno 2] No such file or directory: 'Data'"
     ]
    }
   ],
   "source": [
    "#Saving the data\n",
    "os.chdir(\"Data\")\n",
    "np.savetxt(\"f1_\"+file1, Trainscore,delimiter=',')\n",
    "np.savetxt(\"f1_\" +file2, Testscore,delimiter=',')\n"
   ]
  },
  {
   "cell_type": "code",
   "execution_count": null,
   "metadata": {
    "collapsed": true
   },
   "outputs": [],
   "source": []
  }
 ],
 "metadata": {
  "anaconda-cloud": {},
  "kernelspec": {
   "display_name": "Python [default]",
   "language": "python",
   "name": "python3"
  },
  "language_info": {
   "codemirror_mode": {
    "name": "ipython",
    "version": 3
   },
   "file_extension": ".py",
   "mimetype": "text/x-python",
   "name": "python",
   "nbconvert_exporter": "python",
   "pygments_lexer": "ipython3",
   "version": "3.5.2"
  }
 },
 "nbformat": 4,
 "nbformat_minor": 1
}
