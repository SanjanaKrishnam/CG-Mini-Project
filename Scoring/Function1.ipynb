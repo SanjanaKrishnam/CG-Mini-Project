{
 "cells": [
  {
   "cell_type": "code",
   "execution_count": 1,
   "metadata": {},
   "outputs": [],
   "source": [
    "import numpy as np\n",
    "from math import exp, sqrt\n",
    "import os\n",
    "import matplotlib.pyplot as plt\n",
    "%matplotlib inline"
   ]
  },
  {
   "cell_type": "code",
   "execution_count": 2,
   "metadata": {},
   "outputs": [],
   "source": [
    "#Scoring Function\n",
    "def score(TrainData,TestData,L):\n",
    "    \n",
    "    print(\"Scoring the data\")\n",
    "    scored_trainData = np.zeros((1,L))\n",
    "    scored_testData = np.zeros((1,L))\n",
    "    \n",
    "    #Parameters\n",
    "    a1 = 3.2\n",
    "    a2 = 10\n",
    "    u = np.sum(TrainData)\n",
    "    u = u/L\n",
    "    delta = np.square((np.absolute(TrainData) - u))\n",
    "    delta = np.sum(delta)/L\n",
    "    delta = sqrt(delta)\n",
    "    M = max(np.max(TrainData), np.max(TestData))\n",
    "    \n",
    "    \n",
    "    for i in range(L):\n",
    "        scored_trainData[0,i] = 1 + exp((TrainData[0,i]/(u+3*delta))-a1)\n",
    "        scored_testData[0,i] = 1 + scored_trainData[0,i] + ((TestData[0,i]-TrainData[0,i])/(a1*(u+3*delta)))\n",
    "        \n",
    "    scored_trainData = np.power(scored_trainData,-1)\n",
    "    scored_testData = np.power(scored_testData,-1)\n",
    "    \n",
    "    return scored_trainData,scored_testData    "
   ]
  },
  {
   "cell_type": "code",
   "execution_count": 3,
   "metadata": {},
   "outputs": [],
   "source": [
    "#Loading Data files\n",
    "L = 90\n",
    "Train_Data = np.loadtxt(\"DTW_bw_rbf_correct.csv\", delimiter = ',').reshape((1,L))\n",
    "Test_Data = np.loadtxt(\"DTW_bw_rbf_incorrect.csv\", delimiter = ',').reshape((1,L))\n"
   ]
  },
  {
   "cell_type": "code",
   "execution_count": 4,
   "metadata": {
    "scrolled": false
   },
   "outputs": [
    {
     "name": "stderr",
     "output_type": "stream",
     "text": [
      "No handles with labels found to put in legend.\n"
     ]
    },
    {
     "name": "stdout",
     "output_type": "stream",
     "text": [
      "Scoring the data\n"
     ]
    },
    {
     "data": {
      "image/png": "[encoded data removed]",
      "text/plain": [
       "<Figure size 1008x576 with 1 Axes>"
      ]
     },
     "metadata": {
      "needs_background": "light"
     },
     "output_type": "display_data"
    }
   ],
   "source": [
    "#scores\n",
    "scored_train, scored_test = score(Train_Data, Test_Data, L)\n",
    "samples = np.arange(1,L+1).reshape(1,L)\n",
    "#Plotting \n",
    "plt.figure(figsize = (14,8))\n",
    "plt.plot(samples,scored_train,\"go\")\n",
    "plt.plot(samples,scored_test,\"ro\")\n",
    "plt.legend()\n",
    "plt.show()"
   ]
  },
  {
   "cell_type": "code",
   "execution_count": null,
   "metadata": {
    "scrolled": true
   },
   "outputs": [],
   "source": []
  },
  {
   "cell_type": "code",
   "execution_count": 5,
   "metadata": {
    "scrolled": true
   },
   "outputs": [],
   "source": [
    "#Saving the data\n",
    "os.chdir(\"Data\")\n",
    "np.savetxt(\"Score_Train.csv\", scored_train,delimiter=',')\n",
    "np.savetxt(\"Score_Test.csv\", scored_test,delimiter=',')\n"
   ]
  },
  {
   "cell_type": "code",
   "execution_count": null,
   "metadata": {},
   "outputs": [],
   "source": []
  },
  {
   "cell_type": "code",
   "execution_count": null,
   "metadata": {},
   "outputs": [],
   "source": []
  }
 ],
 "metadata": {
  "anaconda-cloud": {},
  "kernelspec": {
   "display_name": "Python 3",
   "language": "python",
   "name": "python3"
  },
  "language_info": {
   "codemirror_mode": {
    "name": "ipython",
    "version": 3
   },
   "file_extension": ".py",
   "mimetype": "text/x-python",
   "name": "python",
   "nbconvert_exporter": "python",
   "pygments_lexer": "ipython3",
   "version": "3.7.2"
  }
 },
 "nbformat": 4,
 "nbformat_minor": 1
}
