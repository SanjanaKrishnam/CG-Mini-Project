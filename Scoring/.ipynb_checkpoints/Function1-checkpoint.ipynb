{
 "cells": [
  {
   "cell_type": "code",
   "execution_count": 1,
   "metadata": {},
   "outputs": [],
   "source": [
    "import numpy as np\n",
    "from math import exp\n",
    "import os\n",
    "import matplotlib.pyplot as plt\n",
    "%matplotlib inline"
   ]
  },
  {
   "cell_type": "code",
   "execution_count": 2,
   "metadata": {},
   "outputs": [],
   "source": [
    "#Scoring Function\n",
    "def score(TrainData,TestData,L):\n",
    "    print(\"Scoring the data\")\n",
    "    scored_trainData = np.zeros(L)\n",
    "    scored_testData = np.zeros(L)\n",
    "    a1 = 3.2\n",
    "    a2 = 10\n",
    "    for i in range(L):\n",
    "        u = np.sum(np.absolute(TrainData[0:i+1]),dtype=np.float64)\n",
    "        u = u/L\n",
    "        d = 0\n",
    "        for j in range(i+1):\n",
    "            val = np.square((np.absolute(TrainData[j]) - u))\n",
    "            d = np.add(val,d)\n",
    "        d = d/L\n",
    "        scored_trainData[i] = pow((1 +exp((TrainData[i]/(u+3*d)) - a1)),-1)\n",
    "        val = (TrainData[i] - TestData[i])/(a1*(u+3*d))\n",
    "        scored_testData[i] = pow((1 +exp((TrainData[i]/(u+3*d)) - a1) + val),-1)\n",
    "    return scored_trainData,scored_testData    "
   ]
  },
  {
   "cell_type": "code",
   "execution_count": 3,
   "metadata": {},
   "outputs": [
    {
     "name": "stdout",
     "output_type": "stream",
     "text": [
      "[0.15132455 0.14911903 0.16220293 0.14696152 0.16397719 0.14828479\n",
      " 0.14657483 0.15256096 0.15037006 0.15046254 0.15269718 0.16260588\n",
      " 0.15195697 0.1586246  0.14272193 0.15945364 0.15338842 0.15381158\n",
      " 0.15459294 0.15945797 0.15443727 0.15901207 0.15523281 0.15600849\n",
      " 0.14508639 0.21112401 0.15649331 0.15850067 0.15519604 0.16787633\n",
      " 0.16454134 0.16338027 0.1788688  0.17184883 0.17999082 0.1716427\n",
      " 0.18723858 0.17028946 0.18099051 0.16731953 0.17060584 0.1798239\n",
      " 0.16771518 0.17960905 0.18837315 0.16325135 0.13444177 0.1538479\n",
      " 0.15105314 0.15673303 0.17511469 0.14613907 0.13806438 0.14768296\n",
      " 0.15302498 0.19265755 0.18834189 0.19708163 0.20194562 0.20001494\n",
      " 0.18543195 0.18798756 0.18032152 0.17528225 0.1780781  0.18110861\n",
      " 0.17030311 0.17296342 0.17591959 0.16749949 0.16977367 0.17087063\n",
      " 0.15113501 0.17302003 0.15260809 0.15965349 0.15621713 0.1439482\n",
      " 0.1446872  0.1508101  0.16592058 0.18189894 0.17503979 0.15406465\n",
      " 0.16545128 0.17419812 0.18316603 0.16571352 0.16104433 0.17023258]\n"
     ]
    }
   ],
   "source": [
    "#Loading Data files\n",
    "Train_Data = np.loadtxt(\"DTW_bw_rbf_correct.csv\", delimiter = ',')\n",
    "Test_Data = np.loadtxt(\"DTW_bw_rbf_incorrect.csv\", delimiter = ',')\n",
    "print(Train_Data)\n",
    "print(Test_Data)\n"
   ]
  },
  {
   "cell_type": "code",
   "execution_count": 4,
   "metadata": {
    "scrolled": false
   },
   "outputs": [],
   "source": [
    "#Calculating the score\n",
    "#Trainscore,Testscore = score(Train_Data,Test_Data,L)\n",
    "# print(Testscore.shape)\n",
    "# print(Trainscore.shape)"
   ]
  },
  {
   "cell_type": "code",
   "execution_count": 5,
   "metadata": {
    "scrolled": true
   },
   "outputs": [],
   "source": [
    "# #Plotting \n",
    "# plt.figure(figsize = (14,8))\n",
    "# plt.plot(Trainscore,\"bo\",label=\"Training set\")\n",
    "# plt.plot(Testscore,\"go\",label=\"Testing set\")\n",
    "# plt.legend()\n",
    "# plt.show()"
   ]
  },
  {
   "cell_type": "code",
   "execution_count": 6,
   "metadata": {
    "scrolled": true
   },
   "outputs": [],
   "source": [
    "#Saving the data\n",
    "# os.chdir(\"Data\")\n",
    "# np.savetxt(\"f1_\"+file1, Trainscore,delimiter=',')\n",
    "# np.savetxt(\"f1_\" +file2, Testscore,delimiter=',')\n"
   ]
  },
  {
   "cell_type": "code",
   "execution_count": null,
   "metadata": {},
   "outputs": [],
   "source": []
  }
 ],
 "metadata": {
  "anaconda-cloud": {},
  "kernelspec": {
   "display_name": "Python 3",
   "language": "python",
   "name": "python3"
  },
  "language_info": {
   "codemirror_mode": {
    "name": "ipython",
    "version": 3
   },
   "file_extension": ".py",
   "mimetype": "text/x-python",
   "name": "python",
   "nbconvert_exporter": "python",
   "pygments_lexer": "ipython3",
   "version": "3.7.2"
  }
 },
 "nbformat": 4,
 "nbformat_minor": 1
}
