{
 "cells": [
  {
   "cell_type": "code",
   "execution_count": 1,
   "metadata": {
    "collapsed": true
   },
   "outputs": [],
   "source": [
    "import numpy as np\n",
    "from math import exp\n",
    "import os\n",
    "import matplotlib.pyplot as plt\n",
    "%matplotlib inline"
   ]
  },
  {
   "cell_type": "code",
   "execution_count": 3,
   "metadata": {
    "collapsed": true
   },
   "outputs": [],
   "source": [
    "#Scoring Function\n",
    "def score(TrainData,TestData,L):\n",
    "    print(\"Scoring the data\")\n",
    "    scored_trainData = np.zeros(L)\n",
    "    scored_testData = np.zeros(L)\n",
    "    a1 = 3.2\n",
    "    a2 = 10\n",
    "    for i in range(L):\n",
    "        u = np.sum(np.absolute(TrainData[0:i+1]),dtype=np.float64)\n",
    "        u = u/L\n",
    "        scored_trainData[i] = 1 - np.absolute(TrainData[i]-u)\n",
    "        val = 1-np.absolute(TestData[i]-u)\n",
    "        if(val > 0):\n",
    "            scored_testData[i] = val\n",
    "        else:\n",
    "            scored_testData[i] = a1\n",
    "    return scored_trainData,scored_testData    "
   ]
  },
  {
   "cell_type": "code",
   "execution_count": 2,
   "metadata": {
    "collapsed": true
   },
   "outputs": [],
   "source": [
    "#Loading Data files\n",
    "file1 = \"DTW_bw_AE_correct.csv\"\n",
    "file2 = \"DTW_bw_AE_incorrect.csv\"\n",
    "filepath_train = \"../Performance-Metric/Data/\" + file1\n",
    "filepath_test = \"../Performance-Metric/Data/\" + file2\n",
    "Train_Data = np.loadtxt(filepath_train, delimiter = ',')\n",
    "Test_Data = np.loadtxt(filepath_test, delimiter = ',')\n",
    "L = Train_Data.shape[0]"
   ]
  },
  {
   "cell_type": "code",
   "execution_count": 4,
   "metadata": {
    "collapsed": false
   },
   "outputs": [
    {
     "name": "stdout",
     "output_type": "stream",
     "text": [
      "Scoring the data\n",
      "(90,)\n",
      "(90,)\n"
     ]
    }
   ],
   "source": [
    "#Calculating the score\n",
    "Trainscore,Testscore = score(Train_Data,Test_Data,L)\n",
    "print(Testscore.shape)\n",
    "print(Trainscore.shape)"
   ]
  },
  {
   "cell_type": "code",
   "execution_count": 5,
   "metadata": {
    "collapsed": false
   },
   "outputs": [
    {
     "data": {
      "image/png": "[encoded data removed]",
      "text/plain": [
       "<matplotlib.figure.Figure at 0x7f945d1bb550>"
      ]
     },
     "metadata": {},
     "output_type": "display_data"
    }
   ],
   "source": [
    "#Plotting \n",
    "plt.figure(figsize = (14,8))\n",
    "plt.plot(Trainscore,\"bo\",label=\"Training set\")\n",
    "plt.plot(Testscore,\"go\",label=\"Testing set\")\n",
    "plt.legend()\n",
    "plt.show()"
   ]
  },
  {
   "cell_type": "code",
   "execution_count": 6,
   "metadata": {
    "collapsed": true
   },
   "outputs": [],
   "source": [
    "#Saving the data\n",
    "os.chdir(\"Data\")\n",
    "np.savetxt(\"f3_\"+file1, Trainscore,delimiter=',')\n",
    "np.savetxt(\"f3_\" +file2, Testscore,delimiter=',')\n"
   ]
  },
  {
   "cell_type": "code",
   "execution_count": null,
   "metadata": {
    "collapsed": true
   },
   "outputs": [],
   "source": []
  }
 ],
 "metadata": {
  "anaconda-cloud": {},
  "kernelspec": {
   "display_name": "Python [default]",
   "language": "python",
   "name": "python3"
  },
  "language_info": {
   "codemirror_mode": {
    "name": "ipython",
    "version": 3
   },
   "file_extension": ".py",
   "mimetype": "text/x-python",
   "name": "python",
   "nbconvert_exporter": "python",
   "pygments_lexer": "ipython3",
   "version": "3.5.2"
  }
 },
 "nbformat": 4,
 "nbformat_minor": 1
}
