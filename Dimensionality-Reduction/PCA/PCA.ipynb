{
 "cells": [
  {
   "cell_type": "code",
   "execution_count": 10,
   "metadata": {},
   "outputs": [],
   "source": [
    "import numpy as np\n",
    "from scipy.io import loadmat\n",
    "from sklearn.preprocessing import StandardScaler\n",
    "from sklearn.decomposition import PCA"
   ]
  },
  {
   "cell_type": "code",
   "execution_count": 11,
   "metadata": {},
   "outputs": [],
   "source": [
    "x = loadmat('../Data/M1-DeepSquat.mat')\n",
    "correct = x['Train_Data']\n",
    "T1 = correct.shape[1]\n",
    "incorrect = x['Test_Data']\n",
    "T2 = incorrect.shape[1]"
   ]
  },
  {
   "cell_type": "code",
   "execution_count": 12,
   "metadata": {},
   "outputs": [],
   "source": [
    "Train_Data = []\n",
    "Test_Data = []\n",
    "for i in range(T1):\n",
    "    Train_Data.append(correct[0,i])\n",
    "for i in range(T2):\n",
    "    Test_Data.append(incorrect[0,i])\n",
    "Train_Data = np.dstack(Train_Data)\n",
    "Train_Data = np.rollaxis(Train_Data,-1)\n",
    "Test_Data = np.dstack(Test_Data)\n",
    "Test_Data = np.rollaxis(Test_Data,-1)\n"
   ]
  },
  {
   "cell_type": "code",
   "execution_count": 13,
   "metadata": {},
   "outputs": [],
   "source": [
    "samples = Train_Data.shape[0]\n",
    "timesteps = Train_Data.shape[1]\n",
    "features = Train_Data.shape[2]\n",
    "Train_Data = np.reshape(Train_Data,(samples*timesteps,features))\n",
    "Test_Data = np.reshape(Test_Data,(samples*timesteps,features))"
   ]
  },
  {
   "cell_type": "code",
   "execution_count": 14,
   "metadata": {},
   "outputs": [
    {
     "name": "stdout",
     "output_type": "stream",
     "text": [
      "(21600, 117)\n"
     ]
    }
   ],
   "source": [
    "Train_Data = StandardScaler().fit_transform(Train_Data)\n",
    "print(Train_Data.shape)"
   ]
  },
  {
   "cell_type": "code",
   "execution_count": 15,
   "metadata": {},
   "outputs": [
    {
     "name": "stdout",
     "output_type": "stream",
     "text": [
      "4\n",
      "(21600, 4)\n",
      "[[11.09071883  5.01149452 -2.65187126 -2.71927212]\n",
      " [11.02539393  4.99412491 -2.68627639 -2.71465139]\n",
      " [10.95714298  4.9804887  -2.71852829 -2.70244616]\n",
      " ...\n",
      " [ 9.96499929 -3.62125592 -4.39632691  0.04471683]\n",
      " [ 9.97921274 -3.59844566 -4.34516664 -0.03057417]\n",
      " [ 9.98940306 -3.57669937 -4.29304715 -0.10204239]]\n",
      "4\n",
      "(21600, 4)\n",
      "[[ 0.92182311  0.02087207  0.08971613 -0.16039581]\n",
      " [ 0.91990876  0.02095868  0.09057687 -0.16061109]\n",
      " [ 0.91794083  0.0210621   0.09143229 -0.16094129]\n",
      " ...\n",
      " [ 1.37661763  0.13050396 -0.47609934  0.42225764]\n",
      " [ 1.39423625  0.13370517 -0.48203623  0.43395256]\n",
      " [ 1.41104729  0.13680842 -0.48749777  0.44519904]]\n"
     ]
    }
   ],
   "source": [
    "#PCA\n",
    "pca = PCA(n_components=4)\n",
    "pca.fit(Train_Data)\n",
    "Train_Data_Reduced = pca.transform(Train_Data)\n",
    "print(pca.n_components_)\n",
    "print(Train_Data_Reduced.shape)\n",
    "print(Train_Data_Reduced)\n",
    "Test_Data_Reduced = pca.transform(Test_Data)\n",
    "print(pca.n_components_)\n",
    "print(Test_Data_Reduced.shape)\n",
    "print(Test_Data_Reduced)"
   ]
  },
  {
   "cell_type": "code",
   "execution_count": 16,
   "metadata": {},
   "outputs": [],
   "source": [
    "Train_Data_Reduced = np.reshape(Train_Data_Reduced,(samples,timesteps,pca.n_components_))\n",
    "Test_Data_Reduced = np.reshape(Test_Data_Reduced,(samples,timesteps,pca.n_components_))"
   ]
  },
  {
   "cell_type": "code",
   "execution_count": 17,
   "metadata": {
    "scrolled": true
   },
   "outputs": [],
   "source": [
    "csv_correct = Train_Data_Reduced.reshape(samples,timesteps*pca.n_components_)\n",
    "np.savetxt('../Data/PCA_reduced_correct.csv', csv_correct ,delimiter=',')\n",
    "csv_incorrect = Test_Data_Reduced.reshape(samples,timesteps*pca.n_components_)\n",
    "np.savetxt('../Data/PCA_reduced_incorrect.csv', csv_incorrect ,delimiter=',')"
   ]
  },
  {
   "cell_type": "raw",
   "metadata": {},
   "source": []
  }
 ],
 "metadata": {
  "anaconda-cloud": {},
  "kernelspec": {
   "display_name": "Python 3",
   "language": "python",
   "name": "python3"
  },
  "language_info": {
   "codemirror_mode": {
    "name": "ipython",
    "version": 3
   },
   "file_extension": ".py",
   "mimetype": "text/x-python",
   "name": "python",
   "nbconvert_exporter": "python",
   "pygments_lexer": "ipython3",
   "version": "3.7.2"
  }
 },
 "nbformat": 4,
 "nbformat_minor": 1
}
