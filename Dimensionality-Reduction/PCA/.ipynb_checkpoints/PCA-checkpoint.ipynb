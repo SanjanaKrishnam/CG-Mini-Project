{
 "cells": [
  {
   "cell_type": "code",
   "execution_count": 36,
   "metadata": {},
   "outputs": [],
   "source": [
    "import numpy as np\n",
    "import pandas as pd\n",
    "from scipy.io import loadmat\n",
    "from sklearn.preprocessing import StandardScaler\n",
    "from sklearn.decomposition import PCA"
   ]
  },
  {
   "cell_type": "code",
   "execution_count": 37,
   "metadata": {},
   "outputs": [],
   "source": [
    "x = loadmat('../Data/M1-DeepSquat.mat')\n",
    "correct = x['Train_Data']\n",
    "T1 = correct.shape[1]\n",
    "incorrect = x['Test_Data']\n",
    "T2 = incorrect.shape[1]"
   ]
  },
  {
   "cell_type": "code",
   "execution_count": 38,
   "metadata": {},
   "outputs": [],
   "source": [
    "Train_Data = []\n",
    "Test_Data = []\n",
    "for i in range(T1):\n",
    "    Train_Data.append(correct[0,i])\n",
    "for i in range(T2):\n",
    "    Test_Data.append(incorrect[0,i])\n",
    "Train_Data = np.dstack(Train_Data)\n",
    "Train_Data = np.rollaxis(Train_Data,-1)\n",
    "Test_Data = np.dstack(Test_Data)\n",
    "Test_Data = np.rollaxis(Test_Data,-1)\n"
   ]
  },
  {
   "cell_type": "code",
   "execution_count": 39,
   "metadata": {},
   "outputs": [],
   "source": [
    "samples = Train_Data.shape[0]\n",
    "timesteps = Train_Data.shape[1]\n",
    "features = Train_Data.shape[2]\n",
    "Train_Data = np.reshape(Train_Data,(samples*timesteps,features))\n",
    "Test_Data = np.reshape(Test_Data,(samples*timesteps,features))"
   ]
  },
  {
   "cell_type": "code",
   "execution_count": 40,
   "metadata": {},
   "outputs": [
    {
     "name": "stdout",
     "output_type": "stream",
     "text": [
      "(21600, 117)\n"
     ]
    }
   ],
   "source": [
    "Train_Data = StandardScaler().fit_transform(Train_Data)\n",
    "print(Train_Data.shape)"
   ]
  },
  {
   "cell_type": "code",
   "execution_count": 41,
   "metadata": {},
   "outputs": [
    {
     "name": "stdout",
     "output_type": "stream",
     "text": [
      "19\n",
      "(21600, 19)\n",
      "[[11.09071883  5.01149708 -2.6518705  ... -0.69341047 -1.04310849\n",
      "  -0.42969757]\n",
      " [11.02539393  4.99412757 -2.68627558 ... -0.66738214 -1.02310332\n",
      "  -0.4223941 ]\n",
      " [10.95714298  4.98049148 -2.71852743 ... -0.6394294  -1.00554077\n",
      "  -0.4159177 ]\n",
      " ...\n",
      " [ 9.96499929 -3.62125754 -4.39632772 ... -1.66452482 -1.39340447\n",
      "   1.59825212]\n",
      " [ 9.97921274 -3.5984474  -4.34516749 ... -1.66636076 -1.38264334\n",
      "   1.60994092]\n",
      " [ 9.98940306 -3.5767012  -4.29304802 ... -1.6614823  -1.37134737\n",
      "   1.61519782]]\n",
      "19\n",
      "(21600, 19)\n",
      "[[ 0.92182311  0.02087182  0.08971596 ...  0.06846173 -0.0573785\n",
      "  -0.01805138]\n",
      " [ 0.91990876  0.02095844  0.0905767  ...  0.06609092 -0.05706083\n",
      "  -0.01975597]\n",
      " [ 0.91794083  0.02106186  0.09143212 ...  0.06373588 -0.05683051\n",
      "  -0.02167525]\n",
      " ...\n",
      " [ 1.37661763  0.13050341 -0.47609955 ... -0.20098386 -0.10460906\n",
      "   0.07197705]\n",
      " [ 1.39423625  0.13370461 -0.48203644 ... -0.20199462 -0.10382278\n",
      "   0.07367474]\n",
      " [ 1.41104729  0.13680786 -0.48749798 ... -0.20297419 -0.10281067\n",
      "   0.07529021]]\n"
     ]
    }
   ],
   "source": [
    "#PCA\n",
    "pca = PCA(.95)\n",
    "pca.fit(Train_Data)\n",
    "Train_Data_Reduced = pca.transform(Train_Data)\n",
    "print(pca.n_components_)\n",
    "print(Train_Data_Reduced.shape)\n",
    "print(Train_Data_Reduced)\n",
    "Test_Data_Reduced = pca.transform(Test_Data)\n",
    "print(pca.n_components_)\n",
    "print(Test_Data_Reduced.shape)\n",
    "print(Test_Data_Reduced)"
   ]
  },
  {
   "cell_type": "code",
   "execution_count": null,
   "metadata": {},
   "outputs": [],
   "source": [
    "Train_Data_Reduced = np.reshape(Train_Data_Reduced,(samples,timesteps,features))\n",
    "Test_Data_Reduced = np.reshape(Test_Data_Reduced,(samples,timesteps,features))"
   ]
  },
  {
   "cell_type": "code",
   "execution_count": null,
   "metadata": {
    "scrolled": true
   },
   "outputs": [],
   "source": []
  },
  {
   "cell_type": "raw",
   "metadata": {},
   "source": []
  }
 ],
 "metadata": {
  "anaconda-cloud": {},
  "kernelspec": {
   "display_name": "Python 3",
   "language": "python",
   "name": "python3"
  },
  "language_info": {
   "codemirror_mode": {
    "name": "ipython",
    "version": 3
   },
   "file_extension": ".py",
   "mimetype": "text/x-python",
   "name": "python",
   "nbconvert_exporter": "python",
   "pygments_lexer": "ipython3",
   "version": "3.7.2"
  }
 },
 "nbformat": 4,
 "nbformat_minor": 1
}
