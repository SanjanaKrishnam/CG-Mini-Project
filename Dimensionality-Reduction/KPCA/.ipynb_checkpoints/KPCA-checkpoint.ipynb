{
 "cells": [
  {
   "cell_type": "code",
   "execution_count": 20,
   "metadata": {},
   "outputs": [],
   "source": [
    "import numpy as np\n",
    "from scipy.io import loadmat\n",
    "from sklearn.preprocessing import StandardScaler\n",
    "from sklearn.decomposition import KernelPCA"
   ]
  },
  {
   "cell_type": "code",
   "execution_count": 21,
   "metadata": {},
   "outputs": [],
   "source": [
    "x = loadmat('../Data/M1-DeepSquat.mat')\n",
    "correct = x['Train_Data']\n",
    "T1 = correct.shape[1]\n",
    "incorrect = x['Test_Data']\n",
    "T2 = incorrect.shape[1]"
   ]
  },
  {
   "cell_type": "code",
   "execution_count": 22,
   "metadata": {},
   "outputs": [],
   "source": [
    "Train_Data = []\n",
    "Test_Data = []\n",
    "for i in range(T1):\n",
    "    Train_Data.append(correct[0,i])\n",
    "for i in range(T2):\n",
    "    Test_Data.append(incorrect[0,i])\n",
    "Train_Data = np.dstack(Train_Data)\n",
    "Train_Data = np.rollaxis(Train_Data,-1)\n",
    "Test_Data = np.dstack(Test_Data)\n",
    "Test_Data = np.rollaxis(Test_Data,-1)"
   ]
  },
  {
   "cell_type": "code",
   "execution_count": 23,
   "metadata": {},
   "outputs": [],
   "source": [
    "samples = Train_Data.shape[0]\n",
    "timesteps = Train_Data.shape[1]\n",
    "features = Train_Data.shape[2]\n",
    "Train_Data = np.reshape(Train_Data,(samples*timesteps,features))\n",
    "Test_Data = np.reshape(Test_Data,(samples*timesteps,features))"
   ]
  },
  {
   "cell_type": "code",
   "execution_count": 24,
   "metadata": {},
   "outputs": [
    {
     "name": "stdout",
     "output_type": "stream",
     "text": [
      "(180, 28080)\n"
     ]
    }
   ],
   "source": [
    "Train_Data = StandardScaler().fit_transform(Train_Data)\n",
    "print(Train_Data.shape)"
   ]
  },
  {
   "cell_type": "code",
   "execution_count": 25,
   "metadata": {},
   "outputs": [
    {
     "name": "stdout",
     "output_type": "stream",
     "text": [
      "(180, 4)\n",
      "(180, 4)\n",
      "(180, 4)\n"
     ]
    }
   ],
   "source": [
    "#KPCA\n",
    "for x in ['linear', 'poly', 'rbf'] : \n",
    "    transformer = KernelPCA(n_components=4, kernel=x)\n",
    "    transformer.fit(Train_DataR)\n",
    "    Train_Data_Reduced = transformer.transform(Train_Data)\n",
    "    Train_Data_Reduced = np.reshape(Train_Data_Reduced,(samples,timesteps,pca.n_components_))\n",
    "Test_Data_Reduced = np.reshape(Test_Data_Reduced,(samples,timesteps,pca.n_components_))\n",
    "    np.savetxt(x+'KPCA_Correct_Data_Reduced.csv', Train_Data_reduced ,delimiter=',')\n",
    "    \n",
    "    print(Train_Data_Reduced.shape)"
   ]
  }
 ],
 "metadata": {
  "kernelspec": {
   "display_name": "Python 3",
   "language": "python",
   "name": "python3"
  },
  "language_info": {
   "codemirror_mode": {
    "name": "ipython",
    "version": 3
   },
   "file_extension": ".py",
   "mimetype": "text/x-python",
   "name": "python",
   "nbconvert_exporter": "python",
   "pygments_lexer": "ipython3",
   "version": "3.7.2"
  }
 },
 "nbformat": 4,
 "nbformat_minor": 2
}
