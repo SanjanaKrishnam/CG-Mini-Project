{
 "cells": [
  {
   "cell_type": "code",
   "execution_count": 1,
   "metadata": {
    "collapsed": true
   },
   "outputs": [],
   "source": [
    "import numpy as np\n",
    "import pandas as pd\n",
    "from scipy.io import loadmat\n",
    "from sklearn.preprocessing import StandardScaler\n",
    "from sklearn.decomposition import PCA"
   ]
  },
  {
   "cell_type": "code",
   "execution_count": 2,
   "metadata": {
    "collapsed": false
   },
   "outputs": [],
   "source": [
    "# Loading the data\n",
    "x = loadmat('M1-DeepSquat.mat')\n",
    "correct = x['Train_Data']\n",
    "T1 = correct.shape[1]\n",
    "incorrect = x['Train_Data']\n",
    "T2 = incorrect.shape[1]"
   ]
  },
  {
   "cell_type": "code",
   "execution_count": 3,
   "metadata": {
    "collapsed": false
   },
   "outputs": [],
   "source": [
    "Train_DataR=[]\n",
    "for i in range(T1):\n",
    "    Train_DataR.append(correct[0,i])\n",
    "for i in range(T2):\n",
    "    Train_DataR.append(incorrect[0,i])\n",
    "Train_DataR = np.dstack(Train_DataR)\n",
    "Train_DataR = np.rollaxis(Train_DataR,-1)\n"
   ]
  },
  {
   "cell_type": "code",
   "execution_count": 4,
   "metadata": {
    "collapsed": false
   },
   "outputs": [],
   "source": [
    "samples = Train_DataR.shape[0]\n",
    "timesteps = Train_DataR.shape[1]\n",
    "features = Train_DataR.shape[2]\n",
    "Train_DataR = np.reshape(Train_DataR,(samples,timesteps*features))"
   ]
  },
  {
   "cell_type": "code",
   "execution_count": 5,
   "metadata": {
    "collapsed": false
   },
   "outputs": [
    {
     "name": "stdout",
     "output_type": "stream",
     "text": [
      "(180, 28080)\n"
     ]
    }
   ],
   "source": [
    "#Feature Scaling\n",
    "Train_DataR = StandardScaler().fit_transform(Train_DataR)\n",
    "print(Train_DataR.shape)"
   ]
  },
  {
   "cell_type": "code",
   "execution_count": 6,
   "metadata": {
    "collapsed": false
   },
   "outputs": [
    {
     "name": "stdout",
     "output_type": "stream",
     "text": [
      "41\n",
      "(180, 41)\n"
     ]
    }
   ],
   "source": [
    "#PCA\n",
    "pca = PCA(.95)\n",
    "pca.fit(Train_DataR)\n",
    "Train_DataR = pca.transform(Train_DataR)\n",
    "print(pca.n_components_)\n",
    "print(Train_DataR.shape)"
   ]
  },
  {
   "cell_type": "code",
   "execution_count": 7,
   "metadata": {
    "collapsed": false
   },
   "outputs": [
    {
     "name": "stdout",
     "output_type": "stream",
     "text": [
      "(180, 42)\n",
      "[['35.75649035726519' '-36.21170282175334' '-2.0535269136924317' ...,\n",
      "  '7.841685377841377' '-14.912645063497155' 'Correct']\n",
      " ['16.721170231374145' '-26.462070295733533' '21.367928277079518' ...,\n",
      "  '-13.233671213418312' '-10.435542613229936' 'Correct']\n",
      " ['31.83205310921418' '-41.550749220006665' '13.294960577067126' ...,\n",
      "  '-2.821365328792521' '6.762671246712479' 'Correct']\n",
      " ..., \n",
      " ['-6.974758784663402' '37.84045921834559' '-19.782258585421705' ...,\n",
      "  '0.628668327061868' '9.397725707381948' 'Incorrect']\n",
      " ['14.170423493343694' '40.21284606677722' '-49.95485890890389' ...,\n",
      "  '-11.782657926436315' '10.490353045116914' 'Incorrect']\n",
      " ['26.818183958159004' '48.461763557868515' '-60.416296679756265' ...,\n",
      "  '-12.76538933880094' '-3.7559118488286845' 'Incorrect']]\n"
     ]
    }
   ],
   "source": [
    "#Adding Correct and Incorrect Labels\n",
    "p = np.full((samples,1),\"Incorrect\")\n",
    "for i in range(T1):\n",
    "    p[i] = \"Correct\"\n",
    "Train_DataR  = np.concatenate((Train_DataR,p),axis=1)\n",
    "print(Train_DataR.shape)\n",
    "print(Train_DataR)"
   ]
  }
 ],
 "metadata": {
  "anaconda-cloud": {},
  "kernelspec": {
   "display_name": "Python [conda env:anaconda3]",
   "language": "python",
   "name": "conda-env-anaconda3-py"
  },
  "language_info": {
   "codemirror_mode": {
    "name": "ipython",
    "version": 3
   },
   "file_extension": ".py",
   "mimetype": "text/x-python",
   "name": "python",
   "nbconvert_exporter": "python",
   "pygments_lexer": "ipython3",
   "version": "3.5.2"
  }
 },
 "nbformat": 4,
 "nbformat_minor": 1
}
