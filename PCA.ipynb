{
 "cells": [
  {
   "cell_type": "code",
   "execution_count": 1,
   "metadata": {
    "collapsed": true
   },
   "outputs": [],
   "source": [
    "import numpy as np\n",
    "import pandas as pd\n",
    "from scipy.io import loadmat\n",
    "from sklearn.preprocessing import StandardScaler\n",
    "from sklearn.decomposition import PCA"
   ]
  },
  {
   "cell_type": "code",
   "execution_count": 3,
   "metadata": {
    "collapsed": false
   },
   "outputs": [],
   "source": [
    "# Loading the data\n",
    "x = loadmat('M1-DeepSquat.mat')\n",
    "arr = x['Train_Data']\n",
    "T2 = arr.shape[1]"
   ]
  },
  {
   "cell_type": "code",
   "execution_count": 4,
   "metadata": {
    "collapsed": true
   },
   "outputs": [],
   "source": [
    "Train_DataR=[]\n",
    "for i in range(T2):\n",
    "    Train_DataR.append(arr[0,i])\n",
    "Train_DataR = np.dstack(Train_DataR)\n",
    "Train_DataR = np.rollaxis(Train_DataR,-1)\n"
   ]
  },
  {
   "cell_type": "code",
   "execution_count": 5,
   "metadata": {
    "collapsed": true
   },
   "outputs": [],
   "source": [
    "samples = Train_DataR.shape[0]\n",
    "timesteps = Train_DataR.shape[1]\n",
    "features = Train_DataR.shape[2]\n",
    "Train_DataR = np.reshape(Train_DataR,(samples,timesteps*features))"
   ]
  },
  {
   "cell_type": "code",
   "execution_count": 8,
   "metadata": {
    "collapsed": false
   },
   "outputs": [
    {
     "name": "stdout",
     "output_type": "stream",
     "text": [
      "(90, 28080)\n"
     ]
    }
   ],
   "source": [
    "#Feature Scaling\n",
    "Train_DataR = StandardScaler().fit_transform(Train_DataR)\n",
    "print(Train_DataR.shape)"
   ]
  },
  {
   "cell_type": "code",
   "execution_count": 9,
   "metadata": {
    "collapsed": false
   },
   "outputs": [
    {
     "name": "stdout",
     "output_type": "stream",
     "text": [
      "41\n",
      "(90, 41)\n"
     ]
    }
   ],
   "source": [
    "#PCA\n",
    "pca = PCA(.95)\n",
    "pca.fit(Train_DataR)\n",
    "Train_DataR = pca.transform(Train_DataR)\n",
    "print(pca.n_components_)\n",
    "print(Train_DataR.shape)"
   ]
  },
  {
   "cell_type": "code",
   "execution_count": null,
   "metadata": {
    "collapsed": true
   },
   "outputs": [],
   "source": []
  }
 ],
 "metadata": {
  "anaconda-cloud": {},
  "kernelspec": {
   "display_name": "Python [conda env:anaconda3]",
   "language": "python",
   "name": "conda-env-anaconda3-py"
  },
  "language_info": {
   "codemirror_mode": {
    "name": "ipython",
    "version": 3
   },
   "file_extension": ".py",
   "mimetype": "text/x-python",
   "name": "python",
   "nbconvert_exporter": "python",
   "pygments_lexer": "ipython3",
   "version": "3.5.2"
  }
 },
 "nbformat": 4,
 "nbformat_minor": 1
}
