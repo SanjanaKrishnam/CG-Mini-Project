{
 "cells": [
  {
   "cell_type": "code",
   "execution_count": 20,
   "metadata": {},
   "outputs": [],
   "source": [
    "import numpy as np\n",
    "import pandas as pd\n",
    "from scipy.io import loadmat\n",
    "from sklearn.preprocessing import StandardScaler\n",
    "from sklearn.decomposition import KernelPCA"
   ]
  },
  {
   "cell_type": "code",
   "execution_count": 21,
   "metadata": {},
   "outputs": [],
   "source": [
    "# Loading the data\n",
    "x = loadmat('M1-DeepSquat.mat')\n",
    "correct = x['Train_Data']\n",
    "T1 = correct.shape[1]\n",
    "incorrect = x['Train_Data']\n",
    "T2 = incorrect.shape[1]"
   ]
  },
  {
   "cell_type": "code",
   "execution_count": 22,
   "metadata": {},
   "outputs": [],
   "source": [
    "Train_DataR=[]\n",
    "for i in range(T1):\n",
    "    Train_DataR.append(correct[0,i])\n",
    "for i in range(T2):\n",
    "    Train_DataR.append(incorrect[0,i])\n",
    "Train_DataR = np.dstack(Train_DataR)\n",
    "Train_DataR = np.rollaxis(Train_DataR,-1)"
   ]
  },
  {
   "cell_type": "code",
   "execution_count": 23,
   "metadata": {},
   "outputs": [],
   "source": [
    "samples = Train_DataR.shape[0]\n",
    "timesteps = Train_DataR.shape[1]\n",
    "features = Train_DataR.shape[2]\n",
    "Train_DataR = np.reshape(Train_DataR,(samples,timesteps*features))"
   ]
  },
  {
   "cell_type": "code",
   "execution_count": 24,
   "metadata": {},
   "outputs": [
    {
     "name": "stdout",
     "output_type": "stream",
     "text": [
      "(180, 28080)\n"
     ]
    }
   ],
   "source": [
    "#Feature Scaling\n",
    "Train_DataR = StandardScaler().fit_transform(Train_DataR)\n",
    "print(Train_DataR.shape)"
   ]
  },
  {
   "cell_type": "code",
   "execution_count": 25,
   "metadata": {},
   "outputs": [
    {
     "name": "stdout",
     "output_type": "stream",
     "text": [
      "(180, 4)\n",
      "(180, 4)\n",
      "(180, 4)\n"
     ]
    }
   ],
   "source": [
    "#KPCA\n",
    "for x in ['linear', 'poly', 'rbf'] : \n",
    "    transformer = KernelPCA(n_components=4, kernel=x)\n",
    "    transformer.fit(Train_DataR)\n",
    "    Train_Data_reduced = transformer.transform(Train_DataR)\n",
    "    print(Train_Data_reduced.shape)\n",
    "    np.savetxt(x+'KPCA_Correct_Data_Reduced.csv', Train_Data_reduced ,delimiter=',')"
   ]
  }
 ],
 "metadata": {
  "kernelspec": {
   "display_name": "CG-Mini-Project",
   "language": "python",
   "name": "cg-mini-project"
  },
  "language_info": {
   "codemirror_mode": {
    "name": "ipython",
    "version": 3
   },
   "file_extension": ".py",
   "mimetype": "text/x-python",
   "name": "python",
   "nbconvert_exporter": "python",
   "pygments_lexer": "ipython3",
   "version": "3.7.2"
  }
 },
 "nbformat": 4,
 "nbformat_minor": 2
}
